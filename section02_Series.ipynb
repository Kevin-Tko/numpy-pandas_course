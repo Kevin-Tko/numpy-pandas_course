{
 "cells": [
  {
   "cell_type": "code",
   "execution_count": 2,
   "id": "b2d1c5b7",
   "metadata": {},
   "outputs": [],
   "source": [
    "# import libraries needed\n",
    "import numpy as np\n",
    "import pandas as pd"
   ]
  },
  {
   "cell_type": "markdown",
   "id": "31a24d50",
   "metadata": {},
   "source": [
    "# Assignment 1: Series Basics\n",
    "\n",
    "The code has been previded to create an array, `oil_array` from a dataframe column. \n",
    "\n",
    "* Convert `oil_array` into a Pandas Series, called `oil_series`. Give it a name!\n",
    "* Return the name, dtype, size, and index of `oil_series`.\n",
    "\n",
    "Take the mean of the values array. \n",
    "\n",
    "Then, convert the series to integer datatype and recalculate the mean. \n"
   ]
  },
  {
   "cell_type": "code",
   "execution_count": 5,
   "id": "df36e3d6",
   "metadata": {},
   "outputs": [
    {
     "data": {
      "text/plain": [
       "array([52.22, 51.44, 51.98, 52.01, 52.82, 54.01, 53.8 , 53.75, 52.36,\n",
       "       53.26, 53.77, 53.98, 51.95, 50.82, 52.19, 53.01, 52.36, 52.45,\n",
       "       51.12, 51.39, 52.33, 52.77, 52.38, 52.14, 53.24, 53.18, 52.63,\n",
       "       52.75, 53.9 , 53.55, 53.81, 53.01, 52.19, 52.37, 52.99, 53.84,\n",
       "       52.96, 53.21, 53.11, 53.41, 53.41, 54.02, 53.61, 54.48, 53.99,\n",
       "       54.04, 54.  , 53.82, 52.63, 53.33, 53.19, 52.68, 49.83, 48.75,\n",
       "       48.05, 47.95, 47.24, 48.34, 48.3 , 48.34, 47.79, 47.02, 47.29,\n",
       "       47.  , 47.3 , 47.02, 48.36, 49.47, 50.3 , 50.54, 50.25, 50.99,\n",
       "       51.14, 51.69, 52.25, 53.06, 53.38, 53.12, 53.19, 52.62, 52.46,\n",
       "       50.49, 50.26, 49.64, 48.9 , 49.22, 49.22, 48.96, 49.31, 48.83,\n",
       "       47.65, 47.79, 45.55, 46.23, 46.46, 45.84, 47.28, 47.81, 47.83,\n",
       "       48.86])"
      ]
     },
     "execution_count": 5,
     "metadata": {},
     "output_type": "execute_result"
    }
   ],
   "source": [
    "# create a DataFrame from the oil file, drop missing values\n",
    "oil = pd.read_csv(\"oil.csv\").dropna()\n",
    "\n",
    "# Grab 100 rows of oil prices\n",
    "oil_array = np.array(oil[\"dcoilwtico\"].iloc[1000:1100])\n",
    "\n",
    "oil_array"
   ]
  },
  {
   "cell_type": "code",
   "execution_count": 10,
   "id": "fc70abd0",
   "metadata": {},
   "outputs": [
    {
     "data": {
      "text/plain": [
       "0     52.22\n",
       "1     51.44\n",
       "2     51.98\n",
       "3     52.01\n",
       "4     52.82\n",
       "      ...  \n",
       "95    45.84\n",
       "96    47.28\n",
       "97    47.81\n",
       "98    47.83\n",
       "99    48.86\n",
       "Name: oil_prices, Length: 100, dtype: float64"
      ]
     },
     "execution_count": 10,
     "metadata": {},
     "output_type": "execute_result"
    }
   ],
   "source": [
    "oil_prices = pd.Series(oil_array, name='oil_prices')\n",
    "oil_prices"
   ]
  },
  {
   "cell_type": "code",
   "execution_count": 12,
   "id": "54190e1a",
   "metadata": {},
   "outputs": [
    {
     "data": {
      "text/plain": [
       "'oil_prices'"
      ]
     },
     "execution_count": 12,
     "metadata": {},
     "output_type": "execute_result"
    }
   ],
   "source": [
    "oil_prices.name"
   ]
  },
  {
   "cell_type": "code",
   "execution_count": 13,
   "id": "7bf43cdc",
   "metadata": {},
   "outputs": [
    {
     "data": {
      "text/plain": [
       "dtype('float64')"
      ]
     },
     "execution_count": 13,
     "metadata": {},
     "output_type": "execute_result"
    }
   ],
   "source": [
    "oil_prices.dtype"
   ]
  },
  {
   "cell_type": "code",
   "execution_count": 14,
   "id": "96a0fb2a",
   "metadata": {},
   "outputs": [
    {
     "data": {
      "text/plain": [
       "100"
      ]
     },
     "execution_count": 14,
     "metadata": {},
     "output_type": "execute_result"
    }
   ],
   "source": [
    "oil_prices.size"
   ]
  },
  {
   "cell_type": "code",
   "execution_count": 15,
   "id": "1b6d11ee",
   "metadata": {},
   "outputs": [
    {
     "data": {
      "text/plain": [
       "RangeIndex(start=0, stop=100, step=1)"
      ]
     },
     "execution_count": 15,
     "metadata": {},
     "output_type": "execute_result"
    }
   ],
   "source": [
    "oil_prices.index"
   ]
  },
  {
   "cell_type": "code",
   "execution_count": 16,
   "id": "d5bc48f2",
   "metadata": {},
   "outputs": [
    {
     "data": {
      "text/plain": [
       "51.128299999999996"
      ]
     },
     "execution_count": 16,
     "metadata": {},
     "output_type": "execute_result"
    }
   ],
   "source": [
    "oil_prices.values.mean()"
   ]
  },
  {
   "cell_type": "code",
   "execution_count": 22,
   "id": "23e6c47a",
   "metadata": {},
   "outputs": [
    {
     "data": {
      "text/plain": [
       "0     52\n",
       "1     51\n",
       "2     51\n",
       "3     52\n",
       "4     52\n",
       "      ..\n",
       "95    45\n",
       "96    47\n",
       "97    47\n",
       "98    47\n",
       "99    48\n",
       "Name: oil_prices, Length: 100, dtype: int64"
      ]
     },
     "execution_count": 22,
     "metadata": {},
     "output_type": "execute_result"
    }
   ],
   "source": [
    "new_oil_prices = oil_prices.astype('int64')\n",
    "new_oil_prices"
   ]
  },
  {
   "cell_type": "code",
   "execution_count": 23,
   "id": "00d8891b",
   "metadata": {},
   "outputs": [
    {
     "data": {
      "text/plain": [
       "50.66"
      ]
     },
     "execution_count": 23,
     "metadata": {},
     "output_type": "execute_result"
    }
   ],
   "source": [
    "new_oil_prices.mean()"
   ]
  },
  {
   "cell_type": "markdown",
   "id": "663f2bda",
   "metadata": {},
   "source": [
    "# Assignment 2:  Accessing Series Data\n",
    "\n",
    "* Set the date series, which has been created below, to be the index of the oil price series created in assignment 1.\n",
    "\n",
    "\n",
    "* Then, take the mean of the first 10 and last 10 prices of the series.\n",
    "\n",
    "\n",
    "* Finally, grab all oil prices from January 1st, 2017 - January 7th, 2017 (inclusive) and set the index to the default integer index."
   ]
  },
  {
   "cell_type": "code",
   "execution_count": 27,
   "id": "cad8001a",
   "metadata": {},
   "outputs": [
    {
     "data": {
      "text/plain": [
       "1035    2016-12-20\n",
       "1036    2016-12-21\n",
       "1037    2016-12-22\n",
       "1038    2016-12-23\n",
       "1040    2016-12-27\n",
       "           ...    \n",
       "1135    2017-05-09\n",
       "1136    2017-05-10\n",
       "1137    2017-05-11\n",
       "1138    2017-05-12\n",
       "1139    2017-05-15\n",
       "Name: date, Length: 100, dtype: object"
      ]
     },
     "execution_count": 27,
     "metadata": {},
     "output_type": "execute_result"
    }
   ],
   "source": [
    "# extract date column from oil DataFrame and grab first 100 rows\n",
    "\n",
    "dates = pd.Series(oil[\"date\"]).iloc[1000:1100]\n",
    "dates"
   ]
  },
  {
   "cell_type": "code",
   "execution_count": 30,
   "id": "49b55b99",
   "metadata": {},
   "outputs": [
    {
     "data": {
      "text/plain": [
       "2016-12-20    52.22\n",
       "2016-12-21    51.44\n",
       "2016-12-22    51.98\n",
       "2016-12-23    52.01\n",
       "2016-12-27    52.82\n",
       "              ...  \n",
       "2017-05-09    45.84\n",
       "2017-05-10    47.28\n",
       "2017-05-11    47.81\n",
       "2017-05-12    47.83\n",
       "2017-05-15    48.86\n",
       "Name: oil_prices, Length: 100, dtype: float64"
      ]
     },
     "execution_count": 30,
     "metadata": {},
     "output_type": "execute_result"
    }
   ],
   "source": [
    "oil_prices.index = dates.values\n",
    "oil_prices"
   ]
  },
  {
   "cell_type": "code",
   "execution_count": 38,
   "id": "801aae04",
   "metadata": {},
   "outputs": [
    {
     "data": {
      "text/plain": [
       "52.765"
      ]
     },
     "execution_count": 38,
     "metadata": {},
     "output_type": "execute_result"
    }
   ],
   "source": [
    "oil_prices.iloc[:10].values.mean()"
   ]
  },
  {
   "cell_type": "code",
   "execution_count": 40,
   "id": "44aa48a6",
   "metadata": {},
   "outputs": [
    {
     "data": {
      "text/plain": [
       "47.13"
      ]
     },
     "execution_count": 40,
     "metadata": {},
     "output_type": "execute_result"
    }
   ],
   "source": [
    "oil_prices.iloc[-10:].values.mean()"
   ]
  },
  {
   "cell_type": "code",
   "execution_count": 45,
   "id": "3f62e1ce",
   "metadata": {},
   "outputs": [
    {
     "data": {
      "text/plain": [
       "2017-01-03    52.36\n",
       "2017-01-04    53.26\n",
       "2017-01-05    53.77\n",
       "2017-01-06    53.98\n",
       "2017-01-09    51.95\n",
       "2017-01-10    50.82\n",
       "2017-01-11    52.19\n",
       "2017-01-12    53.01\n",
       "2017-01-13    52.36\n",
       "2017-01-17    52.45\n",
       "2017-01-18    51.12\n",
       "2017-01-19    51.39\n",
       "2017-01-20    52.33\n",
       "2017-01-23    52.77\n",
       "2017-01-24    52.38\n",
       "2017-01-25    52.14\n",
       "2017-01-26    53.24\n",
       "2017-01-27    53.18\n",
       "2017-01-30    52.63\n",
       "2017-01-31    52.75\n",
       "Name: oil_prices, dtype: float64"
      ]
     },
     "execution_count": 45,
     "metadata": {},
     "output_type": "execute_result"
    }
   ],
   "source": [
    "january_prices = oil_prices.loc['2017-01-01':'2017-01-7']\n",
    "january_prices"
   ]
  },
  {
   "cell_type": "code",
   "execution_count": 47,
   "id": "2485f044",
   "metadata": {},
   "outputs": [
    {
     "data": {
      "text/plain": [
       "0     52.36\n",
       "1     53.26\n",
       "2     53.77\n",
       "3     53.98\n",
       "4     51.95\n",
       "5     50.82\n",
       "6     52.19\n",
       "7     53.01\n",
       "8     52.36\n",
       "9     52.45\n",
       "10    51.12\n",
       "11    51.39\n",
       "12    52.33\n",
       "13    52.77\n",
       "14    52.38\n",
       "15    52.14\n",
       "16    53.24\n",
       "17    53.18\n",
       "18    52.63\n",
       "19    52.75\n",
       "Name: oil_prices, dtype: float64"
      ]
     },
     "execution_count": 47,
     "metadata": {},
     "output_type": "execute_result"
    }
   ],
   "source": [
    "january_prices.reset_index(drop=True)"
   ]
  },
  {
   "cell_type": "markdown",
   "id": "deec0721",
   "metadata": {},
   "source": [
    "# Assignment 3: Sorting and Filtering Series\n",
    "\n",
    "* First, get the 10 lowest prices from the data. \n",
    "* Sort the 10 lowest prices by date, starting with the most recent and ending with the oldest price.\n",
    "\n",
    "* Finally, use the list of provided dates. Select only rows with these dates that had a price of less than 50 dollars per barrel."
   ]
  },
  {
   "cell_type": "code",
   "execution_count": 55,
   "id": "46126b3e",
   "metadata": {},
   "outputs": [],
   "source": [
    "# list of dates to be used to solve bullet 3\n",
    "\n",
    "dates = [\n",
    "    \"2016-12-22\",\n",
    "    \"2017-05-03\",\n",
    "    \"2017-01-06\",\n",
    "    \"2017-03-05\",\n",
    "    \"2017-02-12\",\n",
    "    \"2017-03-21\",\n",
    "    \"2017-04-14\",\n",
    "    \"2017-04-15\",\n",
    "]"
   ]
  },
  {
   "cell_type": "code",
   "execution_count": 51,
   "id": "2eecaa97",
   "metadata": {
    "scrolled": false
   },
   "outputs": [
    {
     "data": {
      "text/plain": [
       "2017-05-04    45.55\n",
       "2017-05-09    45.84\n",
       "2017-05-05    46.23\n",
       "2017-05-08    46.46\n",
       "2017-03-23    47.00\n",
       "2017-03-21    47.02\n",
       "2017-03-27    47.02\n",
       "2017-03-14    47.24\n",
       "2017-05-10    47.28\n",
       "2017-03-22    47.29\n",
       "Name: oil_prices, dtype: float64"
      ]
     },
     "execution_count": 51,
     "metadata": {},
     "output_type": "execute_result"
    }
   ],
   "source": [
    "ten_lowest_prices = oil_prices.sort_values()[:10]\n",
    "ten_lowest_prices"
   ]
  },
  {
   "cell_type": "code",
   "execution_count": 53,
   "id": "4864ae20",
   "metadata": {},
   "outputs": [
    {
     "data": {
      "text/plain": [
       "2017-05-10    47.28\n",
       "2017-05-09    45.84\n",
       "2017-05-08    46.46\n",
       "2017-05-05    46.23\n",
       "2017-05-04    45.55\n",
       "2017-03-27    47.02\n",
       "2017-03-23    47.00\n",
       "2017-03-22    47.29\n",
       "2017-03-21    47.02\n",
       "2017-03-14    47.24\n",
       "Name: oil_prices, dtype: float64"
      ]
     },
     "execution_count": 53,
     "metadata": {},
     "output_type": "execute_result"
    }
   ],
   "source": [
    "ten_lowest_prices.sort_index(ascending=False)"
   ]
  },
  {
   "cell_type": "code",
   "execution_count": 59,
   "id": "5796f1fb",
   "metadata": {},
   "outputs": [
    {
     "data": {
      "text/plain": [
       "2017-03-21    47.02\n",
       "2017-05-03    47.79\n",
       "Name: oil_prices, dtype: float64"
      ]
     },
     "execution_count": 59,
     "metadata": {},
     "output_type": "execute_result"
    }
   ],
   "source": [
    "mask = (oil_prices.index.isin(dates)) & (oil_prices.values <= (50))\n",
    "oil_prices.loc[mask]"
   ]
  },
  {
   "cell_type": "markdown",
   "id": "ce362e59",
   "metadata": {},
   "source": [
    "\n",
    "# Assignment 4: Series Operations\n",
    "\n",
    "* Increase the prices in the oil series by 10%, and add an additional 2 dollars per barrel on top of that.\n",
    "\n",
    "* Then, create a series that represents the % difference between each price and max price.\n",
    "\n",
    "* Finally, extract the month from the string dates in the index and store them as an integer in their own series."
   ]
  },
  {
   "cell_type": "code",
   "execution_count": 61,
   "id": "67fe841e",
   "metadata": {},
   "outputs": [
    {
     "data": {
      "text/plain": [
       "2016-12-20    52.22\n",
       "2016-12-21    51.44\n",
       "2016-12-22    51.98\n",
       "2016-12-23    52.01\n",
       "2016-12-27    52.82\n",
       "              ...  \n",
       "2017-05-09    45.84\n",
       "2017-05-10    47.28\n",
       "2017-05-11    47.81\n",
       "2017-05-12    47.83\n",
       "2017-05-15    48.86\n",
       "Name: oil_prices, Length: 100, dtype: float64"
      ]
     },
     "execution_count": 61,
     "metadata": {},
     "output_type": "execute_result"
    }
   ],
   "source": [
    "oil_prices"
   ]
  },
  {
   "cell_type": "code",
   "execution_count": 63,
   "id": "38305859",
   "metadata": {},
   "outputs": [
    {
     "data": {
      "text/plain": [
       "2016-12-20    59.44\n",
       "2016-12-21    58.58\n",
       "2016-12-22    59.18\n",
       "2016-12-23    59.21\n",
       "2016-12-27    60.10\n",
       "              ...  \n",
       "2017-05-09    52.42\n",
       "2017-05-10    54.01\n",
       "2017-05-11    54.59\n",
       "2017-05-12    54.61\n",
       "2017-05-15    55.75\n",
       "Name: oil_prices, Length: 100, dtype: float64"
      ]
     },
     "execution_count": 63,
     "metadata": {},
     "output_type": "execute_result"
    }
   ],
   "source": [
    "oil_prices.mul(1.1).add(2).round(2)"
   ]
  },
  {
   "cell_type": "code",
   "execution_count": 81,
   "id": "0f92574f",
   "metadata": {},
   "outputs": [
    {
     "data": {
      "text/plain": [
       "2016-12-20     -4.15 %\n",
       "2016-12-21     -5.58 %\n",
       "2016-12-22     -4.59 %\n",
       "2016-12-23     -4.53 %\n",
       "2016-12-27     -3.05 %\n",
       "                ...   \n",
       "2017-05-09    -15.86 %\n",
       "2017-05-10    -13.22 %\n",
       "2017-05-11    -12.24 %\n",
       "2017-05-12    -12.21 %\n",
       "2017-05-15    -10.32 %\n",
       "Name: oil_prices, Length: 100, dtype: object"
      ]
     },
     "execution_count": 81,
     "metadata": {},
     "output_type": "execute_result"
    }
   ],
   "source": [
    "price_difrence = oil_prices.sub(oil_prices.max()).div(oil_prices.max()).mul(100).round(2)\n",
    "price_difrence.astype('str') + \" %\""
   ]
  },
  {
   "cell_type": "code",
   "execution_count": 75,
   "id": "98b673c0",
   "metadata": {},
   "outputs": [
    {
     "data": {
      "text/plain": [
       "Index(['12', '12', '12', '12', '12', '12', '12', '12', '01', '01', '01', '01',\n",
       "       '01', '01', '01', '01', '01', '01', '01', '01', '01', '01', '01', '01',\n",
       "       '01', '01', '01', '01', '02', '02', '02', '02', '02', '02', '02', '02',\n",
       "       '02', '02', '02', '02', '02', '02', '02', '02', '02', '02', '02', '03',\n",
       "       '03', '03', '03', '03', '03', '03', '03', '03', '03', '03', '03', '03',\n",
       "       '03', '03', '03', '03', '03', '03', '03', '03', '03', '03', '04', '04',\n",
       "       '04', '04', '04', '04', '04', '04', '04', '04', '04', '04', '04', '04',\n",
       "       '04', '04', '04', '04', '04', '05', '05', '05', '05', '05', '05', '05',\n",
       "       '05', '05', '05', '05'],\n",
       "      dtype='object')"
      ]
     },
     "execution_count": 75,
     "metadata": {},
     "output_type": "execute_result"
    }
   ],
   "source": [
    "months = oil_prices.index.str[5:7]\n",
    "months"
   ]
  },
  {
   "cell_type": "code",
   "execution_count": 77,
   "id": "0cbd5306",
   "metadata": {},
   "outputs": [
    {
     "data": {
      "text/plain": [
       "0     12\n",
       "1     12\n",
       "2     12\n",
       "3     12\n",
       "4     12\n",
       "      ..\n",
       "95     5\n",
       "96     5\n",
       "97     5\n",
       "98     5\n",
       "99     5\n",
       "Length: 100, dtype: int64"
      ]
     },
     "execution_count": 77,
     "metadata": {},
     "output_type": "execute_result"
    }
   ],
   "source": [
    "months_series = pd.Series(months, dtype='int64')\n",
    "months_series"
   ]
  },
  {
   "cell_type": "markdown",
   "id": "4735ed48",
   "metadata": {},
   "source": [
    "# Assignment 5: Series Aggregations\n",
    "\n",
    "* Calculate the sum and mean of prices in the month of March. \n",
    "\n",
    "* Next, calculate how many prices were recorded in January and February.\n",
    "\n",
    "* Then, calculate the 10th and 90th percentiles across all data.\n",
    "\n",
    "* Finally, how often did integer dollar value (e.g. 51, 52) occur in the data? Normalize this to a percentage.   "
   ]
  },
  {
   "cell_type": "code",
   "execution_count": 91,
   "id": "b7846132",
   "metadata": {},
   "outputs": [
    {
     "data": {
      "text/plain": [
       "2017-03-01    53.82\n",
       "2017-03-02    52.63\n",
       "2017-03-03    53.33\n",
       "2017-03-06    53.19\n",
       "2017-03-07    52.68\n",
       "2017-03-08    49.83\n",
       "2017-03-09    48.75\n",
       "2017-03-10    48.05\n",
       "2017-03-13    47.95\n",
       "2017-03-14    47.24\n",
       "2017-03-15    48.34\n",
       "2017-03-16    48.30\n",
       "2017-03-17    48.34\n",
       "2017-03-20    47.79\n",
       "2017-03-21    47.02\n",
       "2017-03-22    47.29\n",
       "2017-03-23    47.00\n",
       "2017-03-24    47.30\n",
       "2017-03-27    47.02\n",
       "2017-03-28    48.36\n",
       "2017-03-29    49.47\n",
       "2017-03-30    50.30\n",
       "2017-03-31    50.54\n",
       "Name: oil_prices, dtype: float64"
      ]
     },
     "execution_count": 91,
     "metadata": {},
     "output_type": "execute_result"
    }
   ],
   "source": [
    "march_prices = oil_prices.loc['2017-03-01':'2017-03-31']\n",
    "march_prices"
   ]
  },
  {
   "cell_type": "code",
   "execution_count": 92,
   "id": "2d0ea594",
   "metadata": {},
   "outputs": [
    {
     "data": {
      "text/plain": [
       "49.32782608695651"
      ]
     },
     "execution_count": 92,
     "metadata": {},
     "output_type": "execute_result"
    }
   ],
   "source": [
    "march_prices.mean()"
   ]
  },
  {
   "cell_type": "code",
   "execution_count": 93,
   "id": "d220d35d",
   "metadata": {},
   "outputs": [
    {
     "data": {
      "text/plain": [
       "1134.5399999999997"
      ]
     },
     "execution_count": 93,
     "metadata": {},
     "output_type": "execute_result"
    }
   ],
   "source": [
    "march_prices.sum()"
   ]
  },
  {
   "cell_type": "code",
   "execution_count": 94,
   "id": "a5082d8f",
   "metadata": {},
   "outputs": [
    {
     "data": {
      "text/plain": [
       "39"
      ]
     },
     "execution_count": 94,
     "metadata": {},
     "output_type": "execute_result"
    }
   ],
   "source": [
    "jan_feb_prices = oil_prices.loc['2017-01-01':'2017-02-29']\n",
    "jan_feb_prices.count()"
   ]
  },
  {
   "cell_type": "code",
   "execution_count": 97,
   "id": "fdbd3f03",
   "metadata": {},
   "outputs": [
    {
     "data": {
      "text/plain": [
       "0.1    47.299\n",
       "0.9    53.811\n",
       "Name: oil_prices, dtype: float64"
      ]
     },
     "execution_count": 97,
     "metadata": {},
     "output_type": "execute_result"
    }
   ],
   "source": [
    "oil_prices.quantile([0.1, 0.9])"
   ]
  },
  {
   "cell_type": "code",
   "execution_count": 102,
   "id": "bc5274fb",
   "metadata": {},
   "outputs": [
    {
     "data": {
      "text/plain": [
       "oil_prices\n",
       "52    0.758621\n",
       "51    0.241379\n",
       "Name: proportion, dtype: float64"
      ]
     },
     "execution_count": 102,
     "metadata": {},
     "output_type": "execute_result"
    }
   ],
   "source": [
    "int_prices = oil_prices.astype('int64')\n",
    "int_prices[int_prices.isin([51,52])].value_counts(normalize=True)"
   ]
  },
  {
   "cell_type": "markdown",
   "id": "b81e8ab9",
   "metadata": {},
   "source": [
    "# Assignment 6: Missing Data\n",
    "\n",
    "There were some erroneous prices in our data, so they were filled in with missing values.\n",
    "\n",
    "Can you confirm the number of missing values in the price column? \n",
    "\n",
    "Once you’ve done that, fill the prices in with the median of the oil price series.\n"
   ]
  },
  {
   "cell_type": "code",
   "execution_count": 106,
   "id": "6d5fdec5",
   "metadata": {
    "scrolled": true
   },
   "outputs": [
    {
     "data": {
      "text/plain": [
       "2016-12-20    52.22\n",
       "2016-12-21      NaN\n",
       "2016-12-22    51.98\n",
       "2016-12-23    52.01\n",
       "2016-12-27    52.82\n",
       "              ...  \n",
       "2017-05-09    45.84\n",
       "2017-05-10    47.28\n",
       "2017-05-11    47.81\n",
       "2017-05-12      NaN\n",
       "2017-05-15    48.86\n",
       "Name: oil_prices, Length: 100, dtype: float64"
      ]
     },
     "execution_count": 106,
     "metadata": {},
     "output_type": "execute_result"
    }
   ],
   "source": [
    "# Fill in two values with missing data\n",
    "\n",
    "oil_prices = oil_prices.where(~oil_prices.isin([51.44, 47.83]), pd.NA)\n",
    "oil_prices"
   ]
  },
  {
   "cell_type": "code",
   "execution_count": 110,
   "id": "4c9fc3a5",
   "metadata": {},
   "outputs": [
    {
     "data": {
      "text/plain": [
       "2"
      ]
     },
     "execution_count": 110,
     "metadata": {},
     "output_type": "execute_result"
    }
   ],
   "source": [
    "oil_prices.isna().sum()"
   ]
  },
  {
   "cell_type": "code",
   "execution_count": 112,
   "id": "1ec16104",
   "metadata": {
    "scrolled": true
   },
   "outputs": [
    {
     "data": {
      "text/plain": [
       "2016-12-20    52.220\n",
       "2016-12-21    52.205\n",
       "2016-12-22    51.980\n",
       "2016-12-23    52.010\n",
       "2016-12-27    52.820\n",
       "               ...  \n",
       "2017-05-09    45.840\n",
       "2017-05-10    47.280\n",
       "2017-05-11    47.810\n",
       "2017-05-12    52.205\n",
       "2017-05-15    48.860\n",
       "Name: oil_prices, Length: 100, dtype: float64"
      ]
     },
     "execution_count": 112,
     "metadata": {},
     "output_type": "execute_result"
    }
   ],
   "source": [
    "median = oil_prices.median()\n",
    "oil_prices.fillna(median)"
   ]
  },
  {
   "cell_type": "markdown",
   "id": "19a0e70c",
   "metadata": {},
   "source": [
    "# Exercise 7: Apply and Where\n",
    "\n",
    "Write a function that outputs ‘buy’ if price is less than the 90th percentile and ‘wait’ if it’s not. Apply it to the oil series.\n",
    "\n",
    "Then, create a series that multiplies price by .9 if the date is ‘2016-12-23’ or ‘2017-05-10’, and 1.1 for all other dates. "
   ]
  },
  {
   "cell_type": "code",
   "execution_count": 124,
   "id": "e508687c",
   "metadata": {},
   "outputs": [],
   "source": [
    "new_oil_prices = oil_prices.fillna(oil_prices.median())"
   ]
  },
  {
   "cell_type": "code",
   "execution_count": 133,
   "id": "3496ec24",
   "metadata": {},
   "outputs": [
    {
     "data": {
      "text/plain": [
       "2016-12-20     Buy\n",
       "2016-12-21    wait\n",
       "2016-12-22     Buy\n",
       "2016-12-23     Buy\n",
       "2016-12-27     Buy\n",
       "              ... \n",
       "2017-05-09     Buy\n",
       "2017-05-10     Buy\n",
       "2017-05-11     Buy\n",
       "2017-05-12    wait\n",
       "2017-05-15     Buy\n",
       "Name: oil_prices, Length: 100, dtype: object"
      ]
     },
     "execution_count": 133,
     "metadata": {},
     "output_type": "execute_result"
    }
   ],
   "source": [
    "oil_prices.apply(lambda x:'Buy' if x < oil_prices.quantile(0.90) else 'wait')"
   ]
  },
  {
   "cell_type": "code",
   "execution_count": 130,
   "id": "feab5b7d",
   "metadata": {},
   "outputs": [
    {
     "data": {
      "text/plain": [
       "0     57.442\n",
       "1        NaN\n",
       "2     57.178\n",
       "3     46.809\n",
       "4     58.102\n",
       "       ...  \n",
       "95    50.424\n",
       "96    42.552\n",
       "97    52.591\n",
       "98       NaN\n",
       "99    53.746\n",
       "Length: 100, dtype: float64"
      ]
     },
     "execution_count": 130,
     "metadata": {},
     "output_type": "execute_result"
    }
   ],
   "source": [
    "pd.Series(np.where(oil_prices.index.isin(['2016-12-23', '2017-05-10']),\n",
    "         oil_prices.mul(0.9),\n",
    "         oil_prices.mul(1.1)\n",
    "        ))"
   ]
  },
  {
   "cell_type": "code",
   "execution_count": null,
   "id": "6e9ec561",
   "metadata": {},
   "outputs": [],
   "source": []
  }
 ],
 "metadata": {
  "kernelspec": {
   "display_name": "Python 3 (ipykernel)",
   "language": "python",
   "name": "python3"
  },
  "language_info": {
   "codemirror_mode": {
    "name": "ipython",
    "version": 3
   },
   "file_extension": ".py",
   "mimetype": "text/x-python",
   "name": "python",
   "nbconvert_exporter": "python",
   "pygments_lexer": "ipython3",
   "version": "3.11.5"
  }
 },
 "nbformat": 4,
 "nbformat_minor": 5
}

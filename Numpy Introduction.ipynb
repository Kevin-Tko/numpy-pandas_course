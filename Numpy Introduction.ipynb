{
 "cells": [
  {
   "cell_type": "markdown",
   "id": "8c8dba7f",
   "metadata": {},
   "source": [
    "creating arrays from python list objects"
   ]
  },
  {
   "cell_type": "code",
   "execution_count": 3,
   "id": "0caca07f",
   "metadata": {},
   "outputs": [],
   "source": [
    "import numpy as np"
   ]
  },
  {
   "cell_type": "code",
   "execution_count": 4,
   "id": "63fa1fda",
   "metadata": {},
   "outputs": [
    {
     "data": {
      "text/plain": [
       "array([1, 2, 3])"
      ]
     },
     "execution_count": 4,
     "metadata": {},
     "output_type": "execute_result"
    }
   ],
   "source": [
    "list_one = [1, 2, 3]\n",
    "array_one = np.array(list_one)\n",
    "array_one"
   ]
  },
  {
   "cell_type": "code",
   "execution_count": 5,
   "id": "a9b1865c",
   "metadata": {},
   "outputs": [
    {
     "data": {
      "text/plain": [
       "array([[1, 2, 3],\n",
       "       [4, 5, 6],\n",
       "       [7, 8, 9]])"
      ]
     },
     "execution_count": 5,
     "metadata": {},
     "output_type": "execute_result"
    }
   ],
   "source": [
    "list_two = [[1, 2, 3], [4, 5, 6], [7, 8, 9]]\n",
    "array_two = np.array(list_two)\n",
    "array_two"
   ]
  },
  {
   "cell_type": "markdown",
   "id": "11bcc7d0",
   "metadata": {},
   "source": [
    "Creating arrays from arange method"
   ]
  },
  {
   "cell_type": "code",
   "execution_count": 6,
   "id": "077a3046",
   "metadata": {},
   "outputs": [
    {
     "data": {
      "text/plain": [
       "array([ 0,  1,  2,  3,  4,  5,  6,  7,  8,  9, 10])"
      ]
     },
     "execution_count": 6,
     "metadata": {},
     "output_type": "execute_result"
    }
   ],
   "source": [
    "array_three = np.arange(0,11)\n",
    "array_three"
   ]
  },
  {
   "cell_type": "code",
   "execution_count": 7,
   "id": "1892361a",
   "metadata": {},
   "outputs": [
    {
     "data": {
      "text/plain": [
       "array([ 0,  2,  4,  6,  8, 10])"
      ]
     },
     "execution_count": 7,
     "metadata": {},
     "output_type": "execute_result"
    }
   ],
   "source": [
    "array_four = np.arange(0, 11, 2)\n",
    "array_four"
   ]
  },
  {
   "cell_type": "markdown",
   "id": "503839c8",
   "metadata": {},
   "source": [
    "Zeros and Ones arrays"
   ]
  },
  {
   "cell_type": "code",
   "execution_count": 8,
   "id": "ff2f64ae",
   "metadata": {},
   "outputs": [
    {
     "data": {
      "text/plain": [
       "array([0., 0., 0., 0.])"
      ]
     },
     "execution_count": 8,
     "metadata": {},
     "output_type": "execute_result"
    }
   ],
   "source": [
    "array_five = np.zeros(4)\n",
    "array_five"
   ]
  },
  {
   "cell_type": "code",
   "execution_count": 9,
   "id": "d12aeba3",
   "metadata": {},
   "outputs": [
    {
     "data": {
      "text/plain": [
       "array([[0., 0., 0., 0., 0., 0.],\n",
       "       [0., 0., 0., 0., 0., 0.],\n",
       "       [0., 0., 0., 0., 0., 0.],\n",
       "       [0., 0., 0., 0., 0., 0.]])"
      ]
     },
     "execution_count": 9,
     "metadata": {},
     "output_type": "execute_result"
    }
   ],
   "source": [
    "array_six = np.zeros((4,6))\n",
    "array_six"
   ]
  },
  {
   "cell_type": "code",
   "execution_count": 10,
   "id": "6eb4cc28",
   "metadata": {},
   "outputs": [
    {
     "data": {
      "text/plain": [
       "array([1., 1., 1.])"
      ]
     },
     "execution_count": 10,
     "metadata": {},
     "output_type": "execute_result"
    }
   ],
   "source": [
    "array_seven = np.ones(3)\n",
    "array_seven"
   ]
  },
  {
   "cell_type": "code",
   "execution_count": 11,
   "id": "33df1fbb",
   "metadata": {},
   "outputs": [
    {
     "data": {
      "text/plain": [
       "array([[1., 1., 1., 1., 1.],\n",
       "       [1., 1., 1., 1., 1.]])"
      ]
     },
     "execution_count": 11,
     "metadata": {},
     "output_type": "execute_result"
    }
   ],
   "source": [
    "array_eight = np.ones((2, 5))\n",
    "array_eight"
   ]
  },
  {
   "cell_type": "markdown",
   "id": "fc99e257",
   "metadata": {},
   "source": [
    "Creating arrays with linspace to get evenly spaced points from a starting point to an endpoint"
   ]
  },
  {
   "cell_type": "code",
   "execution_count": 12,
   "id": "d53cd16e",
   "metadata": {},
   "outputs": [
    {
     "data": {
      "text/plain": [
       "array([0.        , 0.26315789, 0.52631579, 0.78947368, 1.05263158,\n",
       "       1.31578947, 1.57894737, 1.84210526, 2.10526316, 2.36842105,\n",
       "       2.63157895, 2.89473684, 3.15789474, 3.42105263, 3.68421053,\n",
       "       3.94736842, 4.21052632, 4.47368421, 4.73684211, 5.        ])"
      ]
     },
     "execution_count": 12,
     "metadata": {},
     "output_type": "execute_result"
    }
   ],
   "source": [
    "np.linspace(0, 5, 20)"
   ]
  },
  {
   "cell_type": "markdown",
   "id": "41e22e9f",
   "metadata": {},
   "source": [
    "creating an identity matrix"
   ]
  },
  {
   "cell_type": "code",
   "execution_count": 13,
   "id": "575694fd",
   "metadata": {},
   "outputs": [
    {
     "data": {
      "text/plain": [
       "array([[1., 0., 0., 0., 0., 0.],\n",
       "       [0., 1., 0., 0., 0., 0.],\n",
       "       [0., 0., 1., 0., 0., 0.],\n",
       "       [0., 0., 0., 1., 0., 0.],\n",
       "       [0., 0., 0., 0., 1., 0.],\n",
       "       [0., 0., 0., 0., 0., 1.]])"
      ]
     },
     "execution_count": 13,
     "metadata": {},
     "output_type": "execute_result"
    }
   ],
   "source": [
    "np.eye(6)"
   ]
  },
  {
   "cell_type": "markdown",
   "id": "91d1734c",
   "metadata": {},
   "source": [
    "Using the random libraries with numpy"
   ]
  },
  {
   "cell_type": "code",
   "execution_count": 14,
   "id": "408f334f",
   "metadata": {},
   "outputs": [
    {
     "data": {
      "text/plain": [
       "array([0.5833121 , 0.35315922, 0.26406766, 0.51212107, 0.43703437])"
      ]
     },
     "execution_count": 14,
     "metadata": {},
     "output_type": "execute_result"
    }
   ],
   "source": [
    "np.random.rand(5)"
   ]
  },
  {
   "cell_type": "code",
   "execution_count": 15,
   "id": "4232fd91",
   "metadata": {},
   "outputs": [
    {
     "data": {
      "text/plain": [
       "array([[0.25615858, 0.11523931, 0.87359752, 0.76548459, 0.85963926],\n",
       "       [0.52127377, 0.26576106, 0.20381452, 0.08338511, 0.29272817],\n",
       "       [0.36371567, 0.82934407, 0.44538527, 0.09793459, 0.9450458 ],\n",
       "       [0.34394203, 0.89724877, 0.36339192, 0.56430957, 0.46644952]])"
      ]
     },
     "execution_count": 15,
     "metadata": {},
     "output_type": "execute_result"
    }
   ],
   "source": [
    "np.random.rand(4, 5)"
   ]
  },
  {
   "cell_type": "code",
   "execution_count": 16,
   "id": "4e39ff2d",
   "metadata": {},
   "outputs": [
    {
     "data": {
      "text/plain": [
       "array([ 0.21004166,  0.64954899,  2.99964019, -0.32948331])"
      ]
     },
     "execution_count": 16,
     "metadata": {},
     "output_type": "execute_result"
    }
   ],
   "source": [
    "np.random.randn(4)"
   ]
  },
  {
   "cell_type": "code",
   "execution_count": 17,
   "id": "ca0c7d8f",
   "metadata": {},
   "outputs": [
    {
     "data": {
      "text/plain": [
       "array([[ 0.9480414 ,  1.39728661,  1.5387323 , -0.94423696],\n",
       "       [-1.26717272,  0.48519609, -0.59161855, -1.68976923]])"
      ]
     },
     "execution_count": 17,
     "metadata": {},
     "output_type": "execute_result"
    }
   ],
   "source": [
    "np.random.randn(2,4)"
   ]
  },
  {
   "cell_type": "code",
   "execution_count": 18,
   "id": "cf604dd9",
   "metadata": {},
   "outputs": [
    {
     "data": {
      "text/plain": [
       "array([ 9, 11, 19,  2,  9, 10, 16, 16, 10,  2])"
      ]
     },
     "execution_count": 18,
     "metadata": {},
     "output_type": "execute_result"
    }
   ],
   "source": [
    "np.random.randint(2, 20, 10)"
   ]
  },
  {
   "cell_type": "markdown",
   "id": "490e8822",
   "metadata": {},
   "source": [
    "using the reshape method"
   ]
  },
  {
   "cell_type": "code",
   "execution_count": 19,
   "id": "804e11a0",
   "metadata": {},
   "outputs": [
    {
     "data": {
      "text/plain": [
       "array([ 0,  1,  2,  3,  4,  5,  6,  7,  8,  9, 10, 11, 12, 13, 14, 15, 16,\n",
       "       17, 18, 19, 20, 21, 22, 23, 24, 25, 26, 27, 28, 29, 30, 31, 32, 33,\n",
       "       34, 35, 36, 37, 38, 39, 40, 41, 42, 43, 44, 45, 46, 47, 48, 49])"
      ]
     },
     "execution_count": 19,
     "metadata": {},
     "output_type": "execute_result"
    }
   ],
   "source": [
    "my_arr = np.arange(0, 50)\n",
    "my_arr"
   ]
  },
  {
   "cell_type": "code",
   "execution_count": 20,
   "id": "5ed802e1",
   "metadata": {},
   "outputs": [
    {
     "data": {
      "text/plain": [
       "array([[ 0,  1,  2,  3,  4,  5,  6,  7,  8,  9],\n",
       "       [10, 11, 12, 13, 14, 15, 16, 17, 18, 19],\n",
       "       [20, 21, 22, 23, 24, 25, 26, 27, 28, 29],\n",
       "       [30, 31, 32, 33, 34, 35, 36, 37, 38, 39],\n",
       "       [40, 41, 42, 43, 44, 45, 46, 47, 48, 49]])"
      ]
     },
     "execution_count": 20,
     "metadata": {},
     "output_type": "execute_result"
    }
   ],
   "source": [
    "my_arr.reshape(5,10)"
   ]
  },
  {
   "cell_type": "markdown",
   "id": "2d5c83a2",
   "metadata": {},
   "source": [
    "Using the max, min, argmax, shape, dtype and argmin"
   ]
  },
  {
   "cell_type": "code",
   "execution_count": 21,
   "id": "6db14599",
   "metadata": {},
   "outputs": [
    {
     "data": {
      "text/plain": [
       "array([ 4, 30, 45, 47, 41, 39,  8,  6, 31, 40])"
      ]
     },
     "execution_count": 21,
     "metadata": {},
     "output_type": "execute_result"
    }
   ],
   "source": [
    "rand_arr = np.random.randint(0, 50, 10)\n",
    "rand_arr"
   ]
  },
  {
   "cell_type": "code",
   "execution_count": 22,
   "id": "d9443037",
   "metadata": {},
   "outputs": [
    {
     "data": {
      "text/plain": [
       "47"
      ]
     },
     "execution_count": 22,
     "metadata": {},
     "output_type": "execute_result"
    }
   ],
   "source": [
    "rand_arr.max()"
   ]
  },
  {
   "cell_type": "code",
   "execution_count": 23,
   "id": "ae2d097e",
   "metadata": {},
   "outputs": [
    {
     "data": {
      "text/plain": [
       "4"
      ]
     },
     "execution_count": 23,
     "metadata": {},
     "output_type": "execute_result"
    }
   ],
   "source": [
    "rand_arr.min()"
   ]
  },
  {
   "cell_type": "code",
   "execution_count": 24,
   "id": "bb81731e",
   "metadata": {},
   "outputs": [
    {
     "data": {
      "text/plain": [
       "0"
      ]
     },
     "execution_count": 24,
     "metadata": {},
     "output_type": "execute_result"
    }
   ],
   "source": [
    "rand_arr.argmin()"
   ]
  },
  {
   "cell_type": "code",
   "execution_count": 25,
   "id": "21fcaeca",
   "metadata": {},
   "outputs": [
    {
     "data": {
      "text/plain": [
       "3"
      ]
     },
     "execution_count": 25,
     "metadata": {},
     "output_type": "execute_result"
    }
   ],
   "source": [
    "rand_arr.argmax()"
   ]
  },
  {
   "cell_type": "code",
   "execution_count": 26,
   "id": "4fec680d",
   "metadata": {},
   "outputs": [
    {
     "data": {
      "text/plain": [
       "(50,)"
      ]
     },
     "execution_count": 26,
     "metadata": {},
     "output_type": "execute_result"
    }
   ],
   "source": [
    "my_arr.shape"
   ]
  },
  {
   "cell_type": "code",
   "execution_count": 27,
   "id": "6e635ce3",
   "metadata": {},
   "outputs": [
    {
     "data": {
      "text/plain": [
       "dtype('int32')"
      ]
     },
     "execution_count": 27,
     "metadata": {},
     "output_type": "execute_result"
    }
   ],
   "source": [
    "my_arr.dtype"
   ]
  },
  {
   "cell_type": "markdown",
   "id": "4f34b227",
   "metadata": {},
   "source": [
    "Numpy arrays indexing"
   ]
  },
  {
   "cell_type": "code",
   "execution_count": 28,
   "id": "e3dee3f3",
   "metadata": {},
   "outputs": [
    {
     "data": {
      "text/plain": [
       "array([ 0,  1,  2,  3,  4,  5,  6,  7,  8,  9, 10])"
      ]
     },
     "execution_count": 28,
     "metadata": {},
     "output_type": "execute_result"
    }
   ],
   "source": [
    "arr = np.arange(0,11)\n",
    "arr"
   ]
  },
  {
   "cell_type": "code",
   "execution_count": 29,
   "id": "89840861",
   "metadata": {},
   "outputs": [
    {
     "data": {
      "text/plain": [
       "5"
      ]
     },
     "execution_count": 29,
     "metadata": {},
     "output_type": "execute_result"
    }
   ],
   "source": [
    "index_slice = arr[5]\n",
    "index_slice"
   ]
  },
  {
   "cell_type": "code",
   "execution_count": 30,
   "id": "c1161f04",
   "metadata": {},
   "outputs": [
    {
     "data": {
      "text/plain": [
       "array([ 3,  4,  5,  6,  7,  8,  9, 10])"
      ]
     },
     "execution_count": 30,
     "metadata": {},
     "output_type": "execute_result"
    }
   ],
   "source": [
    "range_slice = arr[3:]\n",
    "range_slice"
   ]
  },
  {
   "cell_type": "code",
   "execution_count": 31,
   "id": "c783e485",
   "metadata": {},
   "outputs": [
    {
     "data": {
      "text/plain": [
       "array([0, 1, 2, 3, 4, 5, 6])"
      ]
     },
     "execution_count": 31,
     "metadata": {},
     "output_type": "execute_result"
    }
   ],
   "source": [
    "range_slice_1 = arr[:7]\n",
    "range_slice_1"
   ]
  },
  {
   "cell_type": "markdown",
   "id": "257d0d26",
   "metadata": {},
   "source": [
    "Array broadcasting"
   ]
  },
  {
   "cell_type": "code",
   "execution_count": 32,
   "id": "e646f8a5",
   "metadata": {},
   "outputs": [
    {
     "data": {
      "text/plain": [
       "array([    0,     1,     2,     3, 10000, 10000, 10000, 10000,     8,\n",
       "           9,    10])"
      ]
     },
     "execution_count": 32,
     "metadata": {},
     "output_type": "execute_result"
    }
   ],
   "source": [
    "arr[4:8] = 10000\n",
    "arr"
   ]
  },
  {
   "cell_type": "code",
   "execution_count": 33,
   "id": "72084d43",
   "metadata": {},
   "outputs": [
    {
     "data": {
      "text/plain": [
       "array([ 0,  1,  2,  3,  4,  5,  6,  7,  8,  9, 10])"
      ]
     },
     "execution_count": 33,
     "metadata": {},
     "output_type": "execute_result"
    }
   ],
   "source": [
    "arr = np.arange(0,11)\n",
    "arr"
   ]
  },
  {
   "cell_type": "code",
   "execution_count": 35,
   "id": "8e58c26b",
   "metadata": {},
   "outputs": [
    {
     "data": {
      "text/plain": [
       "array([0, 1, 2, 3, 4, 5])"
      ]
     },
     "execution_count": 35,
     "metadata": {},
     "output_type": "execute_result"
    }
   ],
   "source": [
    "slice_of_arr = arr[:6]\n",
    "slice_of_arr"
   ]
  },
  {
   "cell_type": "code",
   "execution_count": 36,
   "id": "f36ab8c5",
   "metadata": {},
   "outputs": [
    {
     "data": {
      "text/plain": [
       "array([100, 100, 100, 100, 100, 100])"
      ]
     },
     "execution_count": 36,
     "metadata": {},
     "output_type": "execute_result"
    }
   ],
   "source": [
    "slice_of_arr[:] = 100\n",
    "slice_of_arr"
   ]
  },
  {
   "cell_type": "markdown",
   "id": "c7e97e57",
   "metadata": {},
   "source": [
    "broadcasting affects the original array also. But arr.copy() is essential for storing the original array"
   ]
  },
  {
   "cell_type": "code",
   "execution_count": 37,
   "id": "ad9ba311",
   "metadata": {},
   "outputs": [
    {
     "data": {
      "text/plain": [
       "array([100, 100, 100, 100, 100, 100,   6,   7,   8,   9,  10])"
      ]
     },
     "execution_count": 37,
     "metadata": {},
     "output_type": "execute_result"
    }
   ],
   "source": [
    "arr"
   ]
  },
  {
   "cell_type": "code",
   "execution_count": 38,
   "id": "b62dce3a",
   "metadata": {},
   "outputs": [
    {
     "data": {
      "text/plain": [
       "array([100, 100, 100, 100, 100, 100,   6,   7,   8,   9,  10])"
      ]
     },
     "execution_count": 38,
     "metadata": {},
     "output_type": "execute_result"
    }
   ],
   "source": [
    "arr_copy = arr.copy()\n",
    "arr_copy"
   ]
  },
  {
   "cell_type": "markdown",
   "id": "b82580e6",
   "metadata": {},
   "source": [
    "Indexing a 2D arrays"
   ]
  },
  {
   "cell_type": "code",
   "execution_count": 39,
   "id": "87c01198",
   "metadata": {},
   "outputs": [
    {
     "data": {
      "text/plain": [
       "array([[ 5, 10, 15],\n",
       "       [20, 25, 30],\n",
       "       [35, 40, 45]])"
      ]
     },
     "execution_count": 39,
     "metadata": {},
     "output_type": "execute_result"
    }
   ],
   "source": [
    "arr_2d = np.array([[5,10,15],[20,25,30],[35,40,45]])\n",
    "arr_2d"
   ]
  },
  {
   "cell_type": "code",
   "execution_count": 40,
   "id": "94677edc",
   "metadata": {},
   "outputs": [
    {
     "data": {
      "text/plain": [
       "array([ 5, 10, 15])"
      ]
     },
     "execution_count": 40,
     "metadata": {},
     "output_type": "execute_result"
    }
   ],
   "source": [
    "arr_2d[0]"
   ]
  },
  {
   "cell_type": "code",
   "execution_count": 41,
   "id": "91145890",
   "metadata": {},
   "outputs": [
    {
     "data": {
      "text/plain": [
       "10"
      ]
     },
     "execution_count": 41,
     "metadata": {},
     "output_type": "execute_result"
    }
   ],
   "source": [
    "arr_2d[0][1]"
   ]
  },
  {
   "cell_type": "code",
   "execution_count": 42,
   "id": "c85f7d14",
   "metadata": {},
   "outputs": [
    {
     "data": {
      "text/plain": [
       "array([20, 25, 30])"
      ]
     },
     "execution_count": 42,
     "metadata": {},
     "output_type": "execute_result"
    }
   ],
   "source": [
    "arr_2d[1]"
   ]
  },
  {
   "cell_type": "code",
   "execution_count": 43,
   "id": "2ae368f7",
   "metadata": {},
   "outputs": [
    {
     "data": {
      "text/plain": [
       "30"
      ]
     },
     "execution_count": 43,
     "metadata": {},
     "output_type": "execute_result"
    }
   ],
   "source": [
    "arr_2d[1][2]"
   ]
  },
  {
   "cell_type": "code",
   "execution_count": 45,
   "id": "350157dd",
   "metadata": {},
   "outputs": [
    {
     "data": {
      "text/plain": [
       "40"
      ]
     },
     "execution_count": 45,
     "metadata": {},
     "output_type": "execute_result"
    }
   ],
   "source": [
    "arr_2d[2,1]"
   ]
  },
  {
   "cell_type": "code",
   "execution_count": 48,
   "id": "560e635f",
   "metadata": {},
   "outputs": [
    {
     "data": {
      "text/plain": [
       "array([[10, 15],\n",
       "       [25, 30]])"
      ]
     },
     "execution_count": 48,
     "metadata": {},
     "output_type": "execute_result"
    }
   ],
   "source": [
    "arr_2d[:2, 1:]"
   ]
  },
  {
   "cell_type": "code",
   "execution_count": 49,
   "id": "43703ae8",
   "metadata": {},
   "outputs": [
    {
     "data": {
      "text/plain": [
       "array([[10, 15],\n",
       "       [25, 30],\n",
       "       [40, 45]])"
      ]
     },
     "execution_count": 49,
     "metadata": {},
     "output_type": "execute_result"
    }
   ],
   "source": [
    "arr_2d[:, 1:]"
   ]
  },
  {
   "cell_type": "markdown",
   "id": "a715f5ea",
   "metadata": {},
   "source": [
    "Using comparison operators on arrays"
   ]
  },
  {
   "cell_type": "code",
   "execution_count": 50,
   "id": "2c9d4200",
   "metadata": {},
   "outputs": [
    {
     "data": {
      "text/plain": [
       "array([ 0,  1,  2,  3,  4,  5,  6,  7,  8,  9, 10])"
      ]
     },
     "execution_count": 50,
     "metadata": {},
     "output_type": "execute_result"
    }
   ],
   "source": [
    "arr = np.arange(0,11)\n",
    "arr"
   ]
  },
  {
   "cell_type": "code",
   "execution_count": 53,
   "id": "64e36006",
   "metadata": {},
   "outputs": [
    {
     "data": {
      "text/plain": [
       "array([False, False, False, False, False, False,  True,  True,  True,\n",
       "        True,  True])"
      ]
     },
     "execution_count": 53,
     "metadata": {},
     "output_type": "execute_result"
    }
   ],
   "source": [
    "bool_array = arr>5\n",
    "bool_array"
   ]
  },
  {
   "cell_type": "code",
   "execution_count": 54,
   "id": "72f359fe",
   "metadata": {},
   "outputs": [
    {
     "data": {
      "text/plain": [
       "array([ 6,  7,  8,  9, 10])"
      ]
     },
     "execution_count": 54,
     "metadata": {},
     "output_type": "execute_result"
    }
   ],
   "source": [
    "arr[bool_array]"
   ]
  },
  {
   "cell_type": "code",
   "execution_count": 56,
   "id": "dcd2e7a8",
   "metadata": {},
   "outputs": [
    {
     "data": {
      "text/plain": [
       "array([[ 0,  1,  2,  3,  4,  5,  6,  7,  8,  9],\n",
       "       [10, 11, 12, 13, 14, 15, 16, 17, 18, 19],\n",
       "       [20, 21, 22, 23, 24, 25, 26, 27, 28, 29],\n",
       "       [30, 31, 32, 33, 34, 35, 36, 37, 38, 39],\n",
       "       [40, 41, 42, 43, 44, 45, 46, 47, 48, 49]])"
      ]
     },
     "execution_count": 56,
     "metadata": {},
     "output_type": "execute_result"
    }
   ],
   "source": [
    "arr_2d_1 = np.arange(50).reshape(5,10)\n",
    "arr_2d_1"
   ]
  },
  {
   "cell_type": "code",
   "execution_count": 58,
   "id": "189196d1",
   "metadata": {},
   "outputs": [
    {
     "data": {
      "text/plain": [
       "array([[14, 15, 16, 17, 18, 19],\n",
       "       [24, 25, 26, 27, 28, 29],\n",
       "       [34, 35, 36, 37, 38, 39],\n",
       "       [44, 45, 46, 47, 48, 49]])"
      ]
     },
     "execution_count": 58,
     "metadata": {},
     "output_type": "execute_result"
    }
   ],
   "source": [
    "arr_2d_1[1:, 4:]"
   ]
  },
  {
   "cell_type": "markdown",
   "id": "da0404a2",
   "metadata": {},
   "source": [
    "Numpy Operations"
   ]
  },
  {
   "cell_type": "code",
   "execution_count": 59,
   "id": "79689967",
   "metadata": {},
   "outputs": [
    {
     "data": {
      "text/plain": [
       "array([ 0,  1,  2,  3,  4,  5,  6,  7,  8,  9, 10])"
      ]
     },
     "execution_count": 59,
     "metadata": {},
     "output_type": "execute_result"
    }
   ],
   "source": [
    "arr = np.arange(0,11)\n",
    "arr"
   ]
  },
  {
   "cell_type": "markdown",
   "id": "2d6909ba",
   "metadata": {},
   "source": [
    "Adding arrays"
   ]
  },
  {
   "cell_type": "code",
   "execution_count": 60,
   "id": "afbc6281",
   "metadata": {},
   "outputs": [
    {
     "data": {
      "text/plain": [
       "array([ 0,  2,  4,  6,  8, 10, 12, 14, 16, 18, 20])"
      ]
     },
     "execution_count": 60,
     "metadata": {},
     "output_type": "execute_result"
    }
   ],
   "source": [
    "arr + arr"
   ]
  },
  {
   "cell_type": "markdown",
   "id": "64c21134",
   "metadata": {},
   "source": [
    "subtracting arrays"
   ]
  },
  {
   "cell_type": "code",
   "execution_count": 62,
   "id": "526c7937",
   "metadata": {},
   "outputs": [
    {
     "data": {
      "text/plain": [
       "array([0, 0, 0, 0, 0, 0, 0, 0, 0, 0, 0])"
      ]
     },
     "execution_count": 62,
     "metadata": {},
     "output_type": "execute_result"
    }
   ],
   "source": [
    "arr - arr"
   ]
  },
  {
   "cell_type": "markdown",
   "id": "4c12a861",
   "metadata": {},
   "source": [
    "Multiplying arrays"
   ]
  },
  {
   "cell_type": "code",
   "execution_count": 63,
   "id": "0e1c33a8",
   "metadata": {},
   "outputs": [
    {
     "data": {
      "text/plain": [
       "array([  0,   1,   4,   9,  16,  25,  36,  49,  64,  81, 100])"
      ]
     },
     "execution_count": 63,
     "metadata": {},
     "output_type": "execute_result"
    }
   ],
   "source": [
    "arr * arr"
   ]
  },
  {
   "cell_type": "markdown",
   "id": "460063c3",
   "metadata": {},
   "source": [
    "dividing arrays"
   ]
  },
  {
   "cell_type": "code",
   "execution_count": 66,
   "id": "938bc35a",
   "metadata": {},
   "outputs": [
    {
     "name": "stderr",
     "output_type": "stream",
     "text": [
      "C:\\Users\\kevin\\AppData\\Local\\Temp\\ipykernel_5964\\2907441788.py:1: RuntimeWarning: divide by zero encountered in remainder\n",
      "  arr % arr\n"
     ]
    },
    {
     "data": {
      "text/plain": [
       "array([0, 0, 0, 0, 0, 0, 0, 0, 0, 0, 0])"
      ]
     },
     "execution_count": 66,
     "metadata": {},
     "output_type": "execute_result"
    }
   ],
   "source": [
    "arr % arr"
   ]
  },
  {
   "cell_type": "markdown",
   "id": "3fc01b79",
   "metadata": {},
   "source": [
    "Using array scalars"
   ]
  },
  {
   "cell_type": "code",
   "execution_count": 67,
   "id": "da6f4a7e",
   "metadata": {},
   "outputs": [
    {
     "data": {
      "text/plain": [
       "array([100, 101, 102, 103, 104, 105, 106, 107, 108, 109, 110])"
      ]
     },
     "execution_count": 67,
     "metadata": {},
     "output_type": "execute_result"
    }
   ],
   "source": [
    "arr + 100"
   ]
  },
  {
   "cell_type": "code",
   "execution_count": 68,
   "id": "0a287e5b",
   "metadata": {},
   "outputs": [
    {
     "data": {
      "text/plain": [
       "array([   0,  100,  200,  300,  400,  500,  600,  700,  800,  900, 1000])"
      ]
     },
     "execution_count": 68,
     "metadata": {},
     "output_type": "execute_result"
    }
   ],
   "source": [
    "arr * 100"
   ]
  },
  {
   "cell_type": "code",
   "execution_count": 69,
   "id": "4359c8ba",
   "metadata": {},
   "outputs": [
    {
     "data": {
      "text/plain": [
       "array([  0,   1,   4,   9,  16,  25,  36,  49,  64,  81, 100])"
      ]
     },
     "execution_count": 69,
     "metadata": {},
     "output_type": "execute_result"
    }
   ],
   "source": [
    "arr ** 2"
   ]
  },
  {
   "cell_type": "markdown",
   "id": "cd27ee8d",
   "metadata": {},
   "source": [
    "universal operations"
   ]
  },
  {
   "cell_type": "code",
   "execution_count": 70,
   "id": "728fe268",
   "metadata": {},
   "outputs": [
    {
     "data": {
      "text/plain": [
       "array([0.        , 1.        , 1.41421356, 1.73205081, 2.        ,\n",
       "       2.23606798, 2.44948974, 2.64575131, 2.82842712, 3.        ,\n",
       "       3.16227766])"
      ]
     },
     "execution_count": 70,
     "metadata": {},
     "output_type": "execute_result"
    }
   ],
   "source": [
    "np.sqrt(arr)"
   ]
  },
  {
   "cell_type": "code",
   "execution_count": 71,
   "id": "3e9c8c4c",
   "metadata": {},
   "outputs": [
    {
     "data": {
      "text/plain": [
       "array([1.00000000e+00, 2.71828183e+00, 7.38905610e+00, 2.00855369e+01,\n",
       "       5.45981500e+01, 1.48413159e+02, 4.03428793e+02, 1.09663316e+03,\n",
       "       2.98095799e+03, 8.10308393e+03, 2.20264658e+04])"
      ]
     },
     "execution_count": 71,
     "metadata": {},
     "output_type": "execute_result"
    }
   ],
   "source": [
    "np.exp(arr)"
   ]
  },
  {
   "cell_type": "markdown",
   "id": "56134142",
   "metadata": {},
   "source": [
    "Numpy Exercises"
   ]
  },
  {
   "cell_type": "markdown",
   "id": "d4be21ae",
   "metadata": {},
   "source": [
    "Creating an array of ten zeros"
   ]
  },
  {
   "cell_type": "code",
   "execution_count": 73,
   "id": "78980711",
   "metadata": {},
   "outputs": [
    {
     "data": {
      "text/plain": [
       "array([0., 0., 0., 0., 0., 0., 0., 0., 0., 0.])"
      ]
     },
     "execution_count": 73,
     "metadata": {},
     "output_type": "execute_result"
    }
   ],
   "source": [
    "ten_zeros = np.zeros(10)\n",
    "ten_zeros"
   ]
  },
  {
   "cell_type": "markdown",
   "id": "ef9d7725",
   "metadata": {},
   "source": [
    "Creating an array of ten ones"
   ]
  },
  {
   "cell_type": "code",
   "execution_count": 74,
   "id": "119ee381",
   "metadata": {},
   "outputs": [
    {
     "data": {
      "text/plain": [
       "array([1., 1., 1., 1., 1., 1., 1., 1., 1., 1.])"
      ]
     },
     "execution_count": 74,
     "metadata": {},
     "output_type": "execute_result"
    }
   ],
   "source": [
    "ten_ones = np.ones(10)\n",
    "ten_ones"
   ]
  },
  {
   "cell_type": "markdown",
   "id": "301e21dd",
   "metadata": {},
   "source": [
    "creating an array of ten  fives"
   ]
  },
  {
   "cell_type": "code",
   "execution_count": 75,
   "id": "06df0f7f",
   "metadata": {},
   "outputs": [
    {
     "data": {
      "text/plain": [
       "array([5., 5., 5., 5., 5., 5., 5., 5., 5., 5.])"
      ]
     },
     "execution_count": 75,
     "metadata": {},
     "output_type": "execute_result"
    }
   ],
   "source": [
    "ten_fives = np.ones(10) * 5\n",
    "ten_fives"
   ]
  },
  {
   "cell_type": "markdown",
   "id": "bbae1edc",
   "metadata": {},
   "source": [
    "creating an array of integers from ten to fifty"
   ]
  },
  {
   "cell_type": "code",
   "execution_count": 76,
   "id": "ce5aa345",
   "metadata": {},
   "outputs": [
    {
     "data": {
      "text/plain": [
       "array([10, 11, 12, 13, 14, 15, 16, 17, 18, 19, 20, 21, 22, 23, 24, 25, 26,\n",
       "       27, 28, 29, 30, 31, 32, 33, 34, 35, 36, 37, 38, 39, 40, 41, 42, 43,\n",
       "       44, 45, 46, 47, 48, 49, 50])"
      ]
     },
     "execution_count": 76,
     "metadata": {},
     "output_type": "execute_result"
    }
   ],
   "source": [
    "ten_to_fifty = np.arange(10,51)\n",
    "ten_to_fifty"
   ]
  },
  {
   "cell_type": "markdown",
   "id": "9bc99f4b",
   "metadata": {},
   "source": [
    "create an array of even integers from ten to fifty"
   ]
  },
  {
   "cell_type": "code",
   "execution_count": 77,
   "id": "b6c3f3ea",
   "metadata": {},
   "outputs": [
    {
     "data": {
      "text/plain": [
       "array([10, 12, 14, 16, 18, 20, 22, 24, 26, 28, 30, 32, 34, 36, 38, 40, 42,\n",
       "       44, 46, 48, 50])"
      ]
     },
     "execution_count": 77,
     "metadata": {},
     "output_type": "execute_result"
    }
   ],
   "source": [
    "even_ints = np.arange(10,51,2)\n",
    "even_ints"
   ]
  },
  {
   "cell_type": "markdown",
   "id": "cf9e868b",
   "metadata": {},
   "source": [
    "Creating a 3 * 3 matrix from values ranging from zero to eight"
   ]
  },
  {
   "cell_type": "code",
   "execution_count": 79,
   "id": "03ec0cf9",
   "metadata": {},
   "outputs": [
    {
     "data": {
      "text/plain": [
       "array([[0, 1, 2],\n",
       "       [3, 4, 5],\n",
       "       [6, 7, 8]])"
      ]
     },
     "execution_count": 79,
     "metadata": {},
     "output_type": "execute_result"
    }
   ],
   "source": [
    "zero_to_eight = np.arange(0,9).reshape(3,3)\n",
    "zero_to_eight"
   ]
  },
  {
   "cell_type": "markdown",
   "id": "742d3c37",
   "metadata": {},
   "source": [
    "creating a 3 * 3 identity matrix"
   ]
  },
  {
   "cell_type": "code",
   "execution_count": 80,
   "id": "1faed6e6",
   "metadata": {},
   "outputs": [
    {
     "data": {
      "text/plain": [
       "array([[1., 0., 0.],\n",
       "       [0., 1., 0.],\n",
       "       [0., 0., 1.]])"
      ]
     },
     "execution_count": 80,
     "metadata": {},
     "output_type": "execute_result"
    }
   ],
   "source": [
    "identity_matr = np.eye(3)\n",
    "identity_matr"
   ]
  },
  {
   "cell_type": "markdown",
   "id": "6890f429",
   "metadata": {},
   "source": [
    "using numpy to generate random numbers between zero and one"
   ]
  },
  {
   "cell_type": "code",
   "execution_count": 84,
   "id": "8fd62cac",
   "metadata": {},
   "outputs": [
    {
     "data": {
      "text/plain": [
       "array([0.64197348])"
      ]
     },
     "execution_count": 84,
     "metadata": {},
     "output_type": "execute_result"
    }
   ],
   "source": [
    "random_ints = np.random.rand(1)\n",
    "random_ints"
   ]
  },
  {
   "cell_type": "markdown",
   "id": "05d8a815",
   "metadata": {},
   "source": [
    "Generating an array of 25 random numbers sampled from a standard normal distribution"
   ]
  },
  {
   "cell_type": "code",
   "execution_count": 85,
   "id": "3d3441c9",
   "metadata": {},
   "outputs": [
    {
     "data": {
      "text/plain": [
       "array([-0.70833041, -0.23721028,  1.13535474,  0.01219032,  0.1864259 ,\n",
       "        1.85204527, -1.68035888,  1.48573228,  1.13338927, -1.81992297,\n",
       "        1.35797432, -0.29758224,  1.63011974, -0.16518366, -0.11651793,\n",
       "        0.58791054,  0.67877795,  2.86758845,  1.52443616, -1.00652795,\n",
       "       -0.79871938, -1.51375682, -0.48721915,  0.28033444,  0.96569583])"
      ]
     },
     "execution_count": 85,
     "metadata": {},
     "output_type": "execute_result"
    }
   ],
   "source": [
    "array_snd = np.random.randn(25)\n",
    "array_snd"
   ]
  },
  {
   "cell_type": "markdown",
   "id": "3d8451b6",
   "metadata": {},
   "source": [
    "Creating a matrix of linearly spaces numbers"
   ]
  },
  {
   "cell_type": "code",
   "execution_count": 94,
   "id": "a1506fe7",
   "metadata": {},
   "outputs": [
    {
     "data": {
      "text/plain": [
       "array([[0.01, 0.02, 0.03, 0.04, 0.05, 0.06, 0.07, 0.08, 0.09, 0.1 ],\n",
       "       [0.11, 0.12, 0.13, 0.14, 0.15, 0.16, 0.17, 0.18, 0.19, 0.2 ],\n",
       "       [0.21, 0.22, 0.23, 0.24, 0.25, 0.26, 0.27, 0.28, 0.29, 0.3 ],\n",
       "       [0.31, 0.32, 0.33, 0.34, 0.35, 0.36, 0.37, 0.38, 0.39, 0.4 ],\n",
       "       [0.41, 0.42, 0.43, 0.44, 0.45, 0.46, 0.47, 0.48, 0.49, 0.5 ],\n",
       "       [0.51, 0.52, 0.53, 0.54, 0.55, 0.56, 0.57, 0.58, 0.59, 0.6 ],\n",
       "       [0.61, 0.62, 0.63, 0.64, 0.65, 0.66, 0.67, 0.68, 0.69, 0.7 ],\n",
       "       [0.71, 0.72, 0.73, 0.74, 0.75, 0.76, 0.77, 0.78, 0.79, 0.8 ],\n",
       "       [0.81, 0.82, 0.83, 0.84, 0.85, 0.86, 0.87, 0.88, 0.89, 0.9 ],\n",
       "       [0.91, 0.92, 0.93, 0.94, 0.95, 0.96, 0.97, 0.98, 0.99, 1.  ]])"
      ]
     },
     "execution_count": 94,
     "metadata": {},
     "output_type": "execute_result"
    }
   ],
   "source": [
    "np.arange(1.,101).reshape(10,10)/100"
   ]
  },
  {
   "cell_type": "markdown",
   "id": "a8d6927e",
   "metadata": {},
   "source": [
    "Creating an array of twenty linearly spaced points between zero and one"
   ]
  },
  {
   "cell_type": "code",
   "execution_count": 95,
   "id": "63cc61d6",
   "metadata": {},
   "outputs": [
    {
     "data": {
      "text/plain": [
       "array([0.        , 0.05263158, 0.10526316, 0.15789474, 0.21052632,\n",
       "       0.26315789, 0.31578947, 0.36842105, 0.42105263, 0.47368421,\n",
       "       0.52631579, 0.57894737, 0.63157895, 0.68421053, 0.73684211,\n",
       "       0.78947368, 0.84210526, 0.89473684, 0.94736842, 1.        ])"
      ]
     },
     "execution_count": 95,
     "metadata": {},
     "output_type": "execute_result"
    }
   ],
   "source": [
    "linear_arr = np.linspace(0,1,20)\n",
    "linear_arr"
   ]
  },
  {
   "cell_type": "markdown",
   "id": "1131b571",
   "metadata": {},
   "source": [
    "Numpy Indexing exercises"
   ]
  },
  {
   "cell_type": "code",
   "execution_count": 97,
   "id": "37011570",
   "metadata": {},
   "outputs": [
    {
     "data": {
      "text/plain": [
       "array([[ 1,  2,  3,  4,  5],\n",
       "       [ 6,  7,  8,  9, 10],\n",
       "       [11, 12, 13, 14, 15],\n",
       "       [16, 17, 18, 19, 20],\n",
       "       [21, 22, 23, 24, 25]])"
      ]
     },
     "execution_count": 97,
     "metadata": {},
     "output_type": "execute_result"
    }
   ],
   "source": [
    "matr = np.arange(1,26).reshape(5,5)\n",
    "matr"
   ]
  },
  {
   "cell_type": "code",
   "execution_count": 98,
   "id": "9615a4b3",
   "metadata": {},
   "outputs": [
    {
     "data": {
      "text/plain": [
       "array([[12, 13, 14, 15],\n",
       "       [17, 18, 19, 20],\n",
       "       [22, 23, 24, 25]])"
      ]
     },
     "execution_count": 98,
     "metadata": {},
     "output_type": "execute_result"
    }
   ],
   "source": [
    "sliced_mtr = matr[2:, 1:]\n",
    "sliced_mtr"
   ]
  },
  {
   "cell_type": "code",
   "execution_count": 101,
   "id": "21605def",
   "metadata": {},
   "outputs": [
    {
     "data": {
      "text/plain": [
       "20"
      ]
     },
     "execution_count": 101,
     "metadata": {},
     "output_type": "execute_result"
    }
   ],
   "source": [
    "sliced_mtr_1 = matr[3,4]\n",
    "sliced_mtr_1"
   ]
  },
  {
   "cell_type": "code",
   "execution_count": 105,
   "id": "dab37df4",
   "metadata": {},
   "outputs": [
    {
     "data": {
      "text/plain": [
       "array([[ 2],\n",
       "       [ 7],\n",
       "       [12]])"
      ]
     },
     "execution_count": 105,
     "metadata": {},
     "output_type": "execute_result"
    }
   ],
   "source": [
    "matr[:3, 1:2]"
   ]
  },
  {
   "cell_type": "code",
   "execution_count": 106,
   "id": "8f18c367",
   "metadata": {},
   "outputs": [
    {
     "data": {
      "text/plain": [
       "array([21, 22, 23, 24, 25])"
      ]
     },
     "execution_count": 106,
     "metadata": {},
     "output_type": "execute_result"
    }
   ],
   "source": [
    "matr[4]"
   ]
  },
  {
   "cell_type": "markdown",
   "id": "290cffb5",
   "metadata": {},
   "source": [
    "Getting the sum of the matrix"
   ]
  },
  {
   "cell_type": "code",
   "execution_count": 108,
   "id": "1c354dca",
   "metadata": {},
   "outputs": [
    {
     "data": {
      "text/plain": [
       "325"
      ]
     },
     "execution_count": 108,
     "metadata": {},
     "output_type": "execute_result"
    }
   ],
   "source": [
    "matr.sum()"
   ]
  },
  {
   "cell_type": "markdown",
   "id": "ee2bd6af",
   "metadata": {},
   "source": [
    "Getting the standard deviation of the matrix"
   ]
  },
  {
   "cell_type": "code",
   "execution_count": 109,
   "id": "f273c186",
   "metadata": {},
   "outputs": [
    {
     "data": {
      "text/plain": [
       "7.211102550927978"
      ]
     },
     "execution_count": 109,
     "metadata": {},
     "output_type": "execute_result"
    }
   ],
   "source": [
    "matr.std()"
   ]
  },
  {
   "cell_type": "markdown",
   "id": "7c6aa657",
   "metadata": {},
   "source": [
    "Getting the sum of all columns in the matrix"
   ]
  },
  {
   "cell_type": "code",
   "execution_count": 110,
   "id": "eb708785",
   "metadata": {},
   "outputs": [
    {
     "data": {
      "text/plain": [
       "array([55, 60, 65, 70, 75])"
      ]
     },
     "execution_count": 110,
     "metadata": {},
     "output_type": "execute_result"
    }
   ],
   "source": [
    "matr.sum(axis=0)"
   ]
  },
  {
   "cell_type": "code",
   "execution_count": null,
   "id": "4b8fea85",
   "metadata": {},
   "outputs": [],
   "source": []
  }
 ],
 "metadata": {
  "kernelspec": {
   "display_name": "Python 3 (ipykernel)",
   "language": "python",
   "name": "python3"
  },
  "language_info": {
   "codemirror_mode": {
    "name": "ipython",
    "version": 3
   },
   "file_extension": ".py",
   "mimetype": "text/x-python",
   "name": "python",
   "nbconvert_exporter": "python",
   "pygments_lexer": "ipython3",
   "version": "3.11.5"
  }
 },
 "nbformat": 4,
 "nbformat_minor": 5
}
